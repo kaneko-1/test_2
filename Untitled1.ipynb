{
  "nbformat": 4,
  "nbformat_minor": 0,
  "metadata": {
    "colab": {
      "name": "Untitled1.ipynb",
      "provenance": [],
      "toc_visible": true,
      "mount_file_id": "1ZD4ozq-Q6q5_QoPQ1W6Jj5ns3p2dNgpX",
      "authorship_tag": "ABX9TyPXyTClfcfcQqfkGvM8JRmu",
      "include_colab_link": true
    },
    "kernelspec": {
      "name": "python3",
      "display_name": "Python 3"
    },
    "accelerator": "GPU"
  },
  "cells": [
    {
      "cell_type": "markdown",
      "metadata": {
        "id": "view-in-github",
        "colab_type": "text"
      },
      "source": [
        "<a href=\"https://colab.research.google.com/github/kaneko-1/test_2/blob/master/Untitled1.ipynb\" target=\"_parent\"><img src=\"https://colab.research.google.com/assets/colab-badge.svg\" alt=\"Open In Colab\"/></a>"
      ]
    },
    {
      "cell_type": "code",
      "metadata": {
        "id": "Yu96hM8XGOi1",
        "colab_type": "code",
        "outputId": "f4b66064-5ebb-4fc8-e600-cf34519b93d7",
        "colab": {
          "base_uri": "https://localhost:8080/",
          "height": 34
        }
      },
      "source": [
        "\n",
        "%cd \"/content/drive/My Drive/授業/kaggle/data\""
      ],
      "execution_count": 2,
      "outputs": [
        {
          "output_type": "stream",
          "text": [
            "/content/drive/My Drive/授業/kaggle/data\n"
          ],
          "name": "stdout"
        }
      ]
    },
    {
      "cell_type": "code",
      "metadata": {
        "id": "5HtHnXuyhkfe",
        "colab_type": "code",
        "outputId": "79c6d273-aa3f-4d9a-c98a-7bb4245bafcd",
        "colab": {
          "base_uri": "https://localhost:8080/",
          "height": 298
        }
      },
      "source": [
        "import tensorflow as tf\n",
        "tf.test.gpu_device_name()\n",
        "!nvidia-smi"
      ],
      "execution_count": 4,
      "outputs": [
        {
          "output_type": "stream",
          "text": [
            "Tue May  5 02:49:58 2020       \n",
            "+-----------------------------------------------------------------------------+\n",
            "| NVIDIA-SMI 440.64.00    Driver Version: 418.67       CUDA Version: 10.1     |\n",
            "|-------------------------------+----------------------+----------------------+\n",
            "| GPU  Name        Persistence-M| Bus-Id        Disp.A | Volatile Uncorr. ECC |\n",
            "| Fan  Temp  Perf  Pwr:Usage/Cap|         Memory-Usage | GPU-Util  Compute M. |\n",
            "|===============================+======================+======================|\n",
            "|   0  Tesla P4            Off  | 00000000:00:04.0 Off |                    0 |\n",
            "| N/A   37C    P0    23W /  75W |    203MiB /  7611MiB |      0%      Default |\n",
            "+-------------------------------+----------------------+----------------------+\n",
            "                                                                               \n",
            "+-----------------------------------------------------------------------------+\n",
            "| Processes:                                                       GPU Memory |\n",
            "|  GPU       PID   Type   Process name                             Usage      |\n",
            "|=============================================================================|\n",
            "+-----------------------------------------------------------------------------+\n"
          ],
          "name": "stdout"
        }
      ]
    },
    {
      "cell_type": "code",
      "metadata": {
        "id": "buPEVpVmKNvi",
        "colab_type": "code",
        "outputId": "ec8c489c-143c-46c9-f273-4b63f59a6124",
        "colab": {
          "base_uri": "https://localhost:8080/",
          "height": 354
        }
      },
      "source": [
        "from __future__ import absolute_import, division, print_function, unicode_literals\n",
        "\n",
        "from tensorflow.keras.models import Sequential\n",
        "from tensorflow.keras.layers import Dense, Conv2D, Flatten, Dropout, MaxPooling2D\n",
        "from tensorflow.keras.preprocessing.image import ImageDataGenerator\n",
        "from tensorflow import keras\n",
        "import os\n",
        "import numpy as np\n",
        "import matplotlib.pyplot as plt\n",
        "import pandas as pd\n",
        "import preprocess_crop\n",
        "from keras.applications.mobilenet_v2 import preprocess_input\n",
        "batch_size = 32\n",
        "epochs = 50\n",
        "IMG_HEIGHT = 224\n",
        "IMG_WIDTH = 224\n",
        "N_CATEGORIES=8\n",
        "n_kfold=0\n",
        "np.random.seed(0)\n",
        "tf.random.set_seed(0)\n",
        "fine_tune_at = 126\n",
        "#144 or 126 or 135 or 108\n",
        "train_dir =  '5fold_cv/fold' + str(n_kfold)+'/train'\n",
        "validation_dir = '5fold_cv/fold' + str(n_kfold)+'/validation'\n",
        "num_tr=np.zeros(8,)\n",
        "num_val=np.zeros(8,)\n",
        "for i in range(8):\n",
        "    num_tr[i] = len(os.listdir(train_dir +'/'+str(i)))\n",
        "    num_val[i] = len(os.listdir(validation_dir+'/'+str(i)))\n",
        "total_train = num_tr.sum()\n",
        "total_val = num_val.sum()\n",
        "weight_for_cat= [(1 / num_tr[i])*(total_train)/N_CATEGORIES  for i in range(N_CATEGORIES)]\n",
        "class_weight = {i:   weight_for_cat[i] for i in range(N_CATEGORIES)}\n",
        "#%%\n",
        "\n",
        "tf.random.set_seed(0)\n",
        "train_image_generator = ImageDataGenerator(\n",
        "    rescale=1. / 255,\n",
        "    samplewise_center=False,\n",
        "    samplewise_std_normalization=True,\n",
        "horizontal_flip = True,\n",
        "preprocessing_function = None\n",
        ")\n",
        "validation_image_generator = ImageDataGenerator(rescale=1./255,\n",
        "                                                samplewise_center=False,\n",
        "                                                samplewise_std_normalization=True,\n",
        "                                                preprocessing_function=None)\n",
        "train_data_gen = train_image_generator .flow_from_directory(batch_size=batch_size,\n",
        "                                                            directory=train_dir,\n",
        "                                                            shuffle=True,\n",
        "                                                            target_size=(IMG_HEIGHT, IMG_WIDTH),\n",
        "                                                            interpolation = 'lanczos:random')\n",
        "val_data_gen = validation_image_generator.flow_from_directory(batch_size=batch_size,\n",
        "                                                              directory=validation_dir,\n",
        "                                                              shuffle=False,\n",
        "                                                              target_size=(IMG_HEIGHT, IMG_WIDTH),\n",
        "                                                              interpolation = 'lanczos:center')\n",
        "# sample_training_images, _ = next(train_data_gen)\n",
        "# # この関数は、1行5列のグリッド形式で画像をプロットし、画像は各列に配置されます。\n",
        "# def plotImages(images_arr):\n",
        "#     fig, axes = plt.subplots(1, 5, figsize=(20,20))\n",
        "#     axes = axes.flatten()\n",
        "#     for img, ax in zip( images_arr, axes):\n",
        "#         ax.imshow(img)\n",
        "#         ax.axis('off')\n",
        "#     plt.tight_layout()\n",
        "#     plt.show()\n",
        "#\n",
        "# plotImages(sample_training_images[:5])\n",
        "IMG_SHAPE = (IMG_HEIGHT, IMG_WIDTH, 3)\n",
        "base_model = tf.keras.applications.MobileNetV2(input_shape=IMG_SHAPE,\n",
        "                                                include_top=False,\n",
        "                                                weights='imagenet')\n",
        "base_model.trainable = False\n",
        "\n",
        "# base_model.summary()\n",
        "\n",
        "# x = base_model.output\n",
        "# x = tf.keras.layers.GlobalAveragePooling2D()(x)\n",
        "# predictions_layer = Dense(N_CATEGORIES, activation='softmax')(x)\n",
        "# print(predictions_layer.shape)\n",
        "\n",
        "global_average_layer = tf.keras.layers.GlobalAveragePooling2D()\n",
        "feature_batch_average = global_average_layer(base_model.output)\n",
        "predictions_layer = Dense(N_CATEGORIES, activation='softmax')\n",
        "model = tf.keras.Sequential([\n",
        "    base_model,\n",
        "    global_average_layer,\n",
        "    predictions_layer\n",
        "])\n",
        "layer_names = [l.name for l in base_model.layers]\n",
        "idx = layer_names.index('block_14_expand')\n",
        "base_model.trainable = True\n",
        "for layer in base_model.layers[:fine_tune_at]:\n",
        "  layer.trainable =  False\n",
        "filepathckpt = 'weight/best_val' + '.ckpt'\n",
        "bestmodel = keras.callbacks.ModelCheckpoint(filepathckpt, monitor='val_accuracy', verbose=1, save_best_only=True, save_weights_only=True, mode='auto', save_freq='epoch')\n",
        "earlystop=keras.callbacks.EarlyStopping(monitor='val_loss', min_delta=0, patience=100, verbose=0, mode='auto')\n",
        "model.compile(optimizer='adam',\n",
        "              loss='categorical_crossentropy',\n",
        "              metrics=[keras.metrics.CategoricalAccuracy(name='accuracy')])\n",
        "model.summary()\n",
        "\n"
      ],
      "execution_count": 37,
      "outputs": [
        {
          "output_type": "stream",
          "text": [
            "/usr/local/lib/python3.6/dist-packages/keras_preprocessing/image/image_data_generator.py:355: UserWarning: This ImageDataGenerator specifies `samplewise_std_normalization`, which overrides setting of `samplewise_center`.\n",
            "  warnings.warn('This ImageDataGenerator specifies '\n"
          ],
          "name": "stderr"
        },
        {
          "output_type": "stream",
          "text": [
            "Found 3389 images belonging to 8 classes.\n",
            "Found 849 images belonging to 8 classes.\n",
            "Model: \"sequential_6\"\n",
            "_________________________________________________________________\n",
            "Layer (type)                 Output Shape              Param #   \n",
            "=================================================================\n",
            "mobilenetv2_1.00_224 (Model) (None, 7, 7, 1280)        2257984   \n",
            "_________________________________________________________________\n",
            "global_average_pooling2d_6 ( (None, 1280)              0         \n",
            "_________________________________________________________________\n",
            "dense_6 (Dense)              (None, 8)                 10248     \n",
            "=================================================================\n",
            "Total params: 2,268,232\n",
            "Trainable params: 1,536,328\n",
            "Non-trainable params: 731,904\n",
            "_________________________________________________________________\n"
          ],
          "name": "stdout"
        }
      ]
    },
    {
      "cell_type": "code",
      "metadata": {
        "id": "2XOy9HEYKaNM",
        "colab_type": "code",
        "outputId": "f0b1d7e4-142c-4fc2-f1ec-07064217d68d",
        "colab": {
          "base_uri": "https://localhost:8080/",
          "height": 1000
        }
      },
      "source": [
        "#%% training\n",
        "history = model.fit(\n",
        "    train_data_gen,\n",
        "    steps_per_epoch=total_train // batch_size,\n",
        "    epochs=epochs,\n",
        "    validation_data = val_data_gen,\n",
        "    validation_steps = total_val // batch_size,\n",
        "class_weight=class_weight,\n",
        "    callbacks=[earlystop,bestmodel]\n",
        ")\n",
        "model.load_weights(filepathckpt)\n"
      ],
      "execution_count": 39,
      "outputs": [
        {
          "output_type": "stream",
          "text": [
            "Epoch 1/50\n",
            "105/105 [==============================] - ETA: 0s - loss: 1.5868 - accuracy: 0.6866\n",
            "Epoch 00001: val_accuracy improved from -inf to 0.50551, saving model to weight/best_val.ckpt\n",
            "105/105 [==============================] - 20s 195ms/step - loss: 1.5868 - accuracy: 0.6866 - val_loss: 3.2273 - val_accuracy: 0.5055\n",
            "Epoch 2/50\n",
            "105/105 [==============================] - ETA: 0s - loss: 2.0300 - accuracy: 0.7125\n",
            "Epoch 00002: val_accuracy did not improve from 0.50551\n",
            "105/105 [==============================] - 21s 196ms/step - loss: 2.0300 - accuracy: 0.7125 - val_loss: 7.4865 - val_accuracy: 0.2203\n",
            "Epoch 3/50\n",
            "105/105 [==============================] - ETA: 0s - loss: 1.9711 - accuracy: 0.6190\n",
            "Epoch 00003: val_accuracy did not improve from 0.50551\n",
            "105/105 [==============================] - 20s 194ms/step - loss: 1.9711 - accuracy: 0.6190 - val_loss: 6.9480 - val_accuracy: 0.3195\n",
            "Epoch 4/50\n",
            "105/105 [==============================] - ETA: 0s - loss: 1.1981 - accuracy: 0.6890\n",
            "Epoch 00004: val_accuracy did not improve from 0.50551\n",
            "105/105 [==============================] - 20s 192ms/step - loss: 1.1981 - accuracy: 0.6890 - val_loss: 5.1484 - val_accuracy: 0.3623\n",
            "Epoch 5/50\n",
            "105/105 [==============================] - ETA: 0s - loss: 0.7911 - accuracy: 0.7036\n",
            "Epoch 00005: val_accuracy improved from 0.50551 to 0.60588, saving model to weight/best_val.ckpt\n",
            "105/105 [==============================] - 21s 197ms/step - loss: 0.7911 - accuracy: 0.7036 - val_loss: 1.6274 - val_accuracy: 0.6059\n",
            "Epoch 6/50\n",
            "105/105 [==============================] - ETA: 0s - loss: 1.1903 - accuracy: 0.7474\n",
            "Epoch 00006: val_accuracy did not improve from 0.60588\n",
            "105/105 [==============================] - 21s 199ms/step - loss: 1.1903 - accuracy: 0.7474 - val_loss: 5.7936 - val_accuracy: 0.3807\n",
            "Epoch 7/50\n",
            "105/105 [==============================] - ETA: 0s - loss: 0.5841 - accuracy: 0.7426\n",
            "Epoch 00007: val_accuracy improved from 0.60588 to 0.64504, saving model to weight/best_val.ckpt\n",
            "105/105 [==============================] - 21s 196ms/step - loss: 0.5841 - accuracy: 0.7426 - val_loss: 1.4571 - val_accuracy: 0.6450\n",
            "Epoch 8/50\n",
            "105/105 [==============================] - ETA: 0s - loss: 1.1464 - accuracy: 0.7578\n",
            "Epoch 00008: val_accuracy did not improve from 0.64504\n",
            "105/105 [==============================] - 20s 194ms/step - loss: 1.1464 - accuracy: 0.7578 - val_loss: 2.8439 - val_accuracy: 0.5655\n",
            "Epoch 9/50\n",
            "105/105 [==============================] - ETA: 0s - loss: 0.4363 - accuracy: 0.7948\n",
            "Epoch 00009: val_accuracy did not improve from 0.64504\n",
            "105/105 [==============================] - 20s 193ms/step - loss: 0.4363 - accuracy: 0.7948 - val_loss: 2.8245 - val_accuracy: 0.5067\n",
            "Epoch 10/50\n",
            "105/105 [==============================] - ETA: 0s - loss: 0.3421 - accuracy: 0.8108\n",
            "Epoch 00010: val_accuracy did not improve from 0.64504\n",
            "105/105 [==============================] - 20s 192ms/step - loss: 0.3421 - accuracy: 0.8108 - val_loss: 2.5766 - val_accuracy: 0.5936\n",
            "Epoch 11/50\n",
            "105/105 [==============================] - ETA: 0s - loss: 0.2937 - accuracy: 0.8484\n",
            "Epoch 00011: val_accuracy improved from 0.64504 to 0.71603, saving model to weight/best_val.ckpt\n",
            "105/105 [==============================] - 21s 196ms/step - loss: 0.2937 - accuracy: 0.8484 - val_loss: 1.8155 - val_accuracy: 0.7160\n",
            "Epoch 12/50\n",
            "105/105 [==============================] - ETA: 0s - loss: 0.2505 - accuracy: 0.8576\n",
            "Epoch 00012: val_accuracy improved from 0.71603 to 0.79192, saving model to weight/best_val.ckpt\n",
            "105/105 [==============================] - 21s 196ms/step - loss: 0.2505 - accuracy: 0.8576 - val_loss: 0.7611 - val_accuracy: 0.7919\n",
            "Epoch 13/50\n",
            "105/105 [==============================] - ETA: 0s - loss: 0.2336 - accuracy: 0.8707\n",
            "Epoch 00013: val_accuracy improved from 0.79192 to 0.79559, saving model to weight/best_val.ckpt\n",
            "105/105 [==============================] - 21s 198ms/step - loss: 0.2336 - accuracy: 0.8707 - val_loss: 0.7177 - val_accuracy: 0.7956\n",
            "Epoch 14/50\n",
            "105/105 [==============================] - ETA: 0s - loss: 0.1703 - accuracy: 0.8978\n",
            "Epoch 00014: val_accuracy improved from 0.79559 to 0.89963, saving model to weight/best_val.ckpt\n",
            "105/105 [==============================] - 20s 195ms/step - loss: 0.1703 - accuracy: 0.8978 - val_loss: 0.2988 - val_accuracy: 0.8996\n",
            "Epoch 15/50\n",
            "105/105 [==============================] - ETA: 0s - loss: 0.1559 - accuracy: 0.9088\n",
            "Epoch 00015: val_accuracy improved from 0.89963 to 0.91065, saving model to weight/best_val.ckpt\n",
            "105/105 [==============================] - 21s 197ms/step - loss: 0.1559 - accuracy: 0.9088 - val_loss: 0.2591 - val_accuracy: 0.9106\n",
            "Epoch 16/50\n",
            "105/105 [==============================] - ETA: 0s - loss: 0.1321 - accuracy: 0.9175\n",
            "Epoch 00016: val_accuracy did not improve from 0.91065\n",
            "105/105 [==============================] - 21s 196ms/step - loss: 0.1321 - accuracy: 0.9175 - val_loss: 0.3568 - val_accuracy: 0.8874\n",
            "Epoch 17/50\n",
            "105/105 [==============================] - ETA: 0s - loss: 0.1824 - accuracy: 0.9068\n",
            "Epoch 00017: val_accuracy improved from 0.91065 to 0.93635, saving model to weight/best_val.ckpt\n",
            "105/105 [==============================] - 21s 198ms/step - loss: 0.1824 - accuracy: 0.9068 - val_loss: 0.2166 - val_accuracy: 0.9364\n",
            "Epoch 18/50\n",
            "105/105 [==============================] - ETA: 0s - loss: 0.1271 - accuracy: 0.9318\n",
            "Epoch 00018: val_accuracy improved from 0.93635 to 0.96695, saving model to weight/best_val.ckpt\n",
            "105/105 [==============================] - 21s 202ms/step - loss: 0.1271 - accuracy: 0.9318 - val_loss: 0.1002 - val_accuracy: 0.9670\n",
            "Epoch 19/50\n",
            "105/105 [==============================] - ETA: 0s - loss: 0.1038 - accuracy: 0.9371\n",
            "Epoch 00019: val_accuracy did not improve from 0.96695\n",
            "105/105 [==============================] - 21s 197ms/step - loss: 0.1038 - accuracy: 0.9371 - val_loss: 0.1469 - val_accuracy: 0.9510\n",
            "Epoch 20/50\n",
            "105/105 [==============================] - ETA: 0s - loss: 0.1089 - accuracy: 0.9410\n",
            "Epoch 00020: val_accuracy improved from 0.96695 to 0.97062, saving model to weight/best_val.ckpt\n",
            "105/105 [==============================] - 21s 198ms/step - loss: 0.1089 - accuracy: 0.9410 - val_loss: 0.0678 - val_accuracy: 0.9706\n",
            "Epoch 21/50\n",
            "105/105 [==============================] - ETA: 0s - loss: 0.0888 - accuracy: 0.9514\n",
            "Epoch 00021: val_accuracy did not improve from 0.97062\n",
            "105/105 [==============================] - 21s 201ms/step - loss: 0.0888 - accuracy: 0.9514 - val_loss: 0.2236 - val_accuracy: 0.9412\n",
            "Epoch 22/50\n",
            "105/105 [==============================] - ETA: 0s - loss: 0.1799 - accuracy: 0.9237\n",
            "Epoch 00022: val_accuracy did not improve from 0.97062\n",
            "105/105 [==============================] - 20s 194ms/step - loss: 0.1799 - accuracy: 0.9237 - val_loss: 0.2012 - val_accuracy: 0.9498\n",
            "Epoch 23/50\n",
            "105/105 [==============================] - ETA: 0s - loss: 0.1629 - accuracy: 0.9211\n",
            "Epoch 00023: val_accuracy improved from 0.97062 to 0.97674, saving model to weight/best_val.ckpt\n",
            "105/105 [==============================] - 21s 196ms/step - loss: 0.1629 - accuracy: 0.9211 - val_loss: 0.0713 - val_accuracy: 0.9767\n",
            "Epoch 24/50\n",
            "105/105 [==============================] - ETA: 0s - loss: 0.1225 - accuracy: 0.9366\n",
            "Epoch 00024: val_accuracy did not improve from 0.97674\n",
            "105/105 [==============================] - 21s 196ms/step - loss: 0.1225 - accuracy: 0.9366 - val_loss: 0.1867 - val_accuracy: 0.9535\n",
            "Epoch 25/50\n",
            "105/105 [==============================] - ETA: 0s - loss: 0.0758 - accuracy: 0.9568\n",
            "Epoch 00025: val_accuracy did not improve from 0.97674\n",
            "105/105 [==============================] - 20s 193ms/step - loss: 0.0758 - accuracy: 0.9568 - val_loss: 0.0803 - val_accuracy: 0.9694\n",
            "Epoch 26/50\n",
            "105/105 [==============================] - ETA: 0s - loss: 0.0725 - accuracy: 0.9586\n",
            "Epoch 00026: val_accuracy improved from 0.97674 to 0.97919, saving model to weight/best_val.ckpt\n",
            "105/105 [==============================] - 20s 195ms/step - loss: 0.0725 - accuracy: 0.9586 - val_loss: 0.0662 - val_accuracy: 0.9792\n",
            "Epoch 27/50\n",
            "105/105 [==============================] - ETA: 0s - loss: 0.0607 - accuracy: 0.9651\n",
            "Epoch 00027: val_accuracy did not improve from 0.97919\n",
            "105/105 [==============================] - 21s 197ms/step - loss: 0.0607 - accuracy: 0.9651 - val_loss: 0.0746 - val_accuracy: 0.9755\n",
            "Epoch 28/50\n",
            "105/105 [==============================] - ETA: 0s - loss: 0.0619 - accuracy: 0.9675\n",
            "Epoch 00028: val_accuracy did not improve from 0.97919\n",
            "105/105 [==============================] - 21s 196ms/step - loss: 0.0619 - accuracy: 0.9675 - val_loss: 0.0932 - val_accuracy: 0.9694\n",
            "Epoch 29/50\n",
            "105/105 [==============================] - ETA: 0s - loss: 0.0833 - accuracy: 0.9535\n",
            "Epoch 00029: val_accuracy did not improve from 0.97919\n",
            "105/105 [==============================] - 20s 195ms/step - loss: 0.0833 - accuracy: 0.9535 - val_loss: 0.1055 - val_accuracy: 0.9755\n",
            "Epoch 30/50\n",
            "105/105 [==============================] - ETA: 0s - loss: 0.0541 - accuracy: 0.9687\n",
            "Epoch 00030: val_accuracy did not improve from 0.97919\n",
            "105/105 [==============================] - 20s 192ms/step - loss: 0.0541 - accuracy: 0.9687 - val_loss: 0.1003 - val_accuracy: 0.9633\n",
            "Epoch 31/50\n",
            "105/105 [==============================] - ETA: 0s - loss: 0.0514 - accuracy: 0.9711\n",
            "Epoch 00031: val_accuracy improved from 0.97919 to 0.98409, saving model to weight/best_val.ckpt\n",
            "105/105 [==============================] - 20s 194ms/step - loss: 0.0514 - accuracy: 0.9711 - val_loss: 0.0535 - val_accuracy: 0.9841\n",
            "Epoch 32/50\n",
            "105/105 [==============================] - ETA: 0s - loss: 0.0529 - accuracy: 0.9711\n",
            "Epoch 00032: val_accuracy did not improve from 0.98409\n",
            "105/105 [==============================] - 21s 199ms/step - loss: 0.0529 - accuracy: 0.9711 - val_loss: 0.0649 - val_accuracy: 0.9780\n",
            "Epoch 33/50\n",
            "105/105 [==============================] - ETA: 0s - loss: 0.0547 - accuracy: 0.9687\n",
            "Epoch 00033: val_accuracy did not improve from 0.98409\n",
            "105/105 [==============================] - 20s 192ms/step - loss: 0.0547 - accuracy: 0.9687 - val_loss: 0.0680 - val_accuracy: 0.9841\n",
            "Epoch 34/50\n",
            "105/105 [==============================] - ETA: 0s - loss: 0.0461 - accuracy: 0.9732\n",
            "Epoch 00034: val_accuracy did not improve from 0.98409\n",
            "105/105 [==============================] - 20s 192ms/step - loss: 0.0461 - accuracy: 0.9732 - val_loss: 0.1697 - val_accuracy: 0.9572\n",
            "Epoch 35/50\n",
            "105/105 [==============================] - ETA: 0s - loss: 0.0528 - accuracy: 0.9726\n",
            "Epoch 00035: val_accuracy did not improve from 0.98409\n",
            "105/105 [==============================] - 20s 193ms/step - loss: 0.0528 - accuracy: 0.9726 - val_loss: 0.0607 - val_accuracy: 0.9792\n",
            "Epoch 36/50\n",
            "105/105 [==============================] - ETA: 0s - loss: 0.4150 - accuracy: 0.9151\n",
            "Epoch 00036: val_accuracy did not improve from 0.98409\n",
            "105/105 [==============================] - 21s 202ms/step - loss: 0.4150 - accuracy: 0.9151 - val_loss: 6.0616 - val_accuracy: 0.2007\n",
            "Epoch 37/50\n",
            "105/105 [==============================] - ETA: 0s - loss: 3.6536 - accuracy: 0.8278\n",
            "Epoch 00037: val_accuracy did not improve from 0.98409\n",
            "105/105 [==============================] - 20s 193ms/step - loss: 3.6536 - accuracy: 0.8278 - val_loss: 7.7451 - val_accuracy: 0.3709\n",
            "Epoch 38/50\n",
            "105/105 [==============================] - ETA: 0s - loss: 0.6753 - accuracy: 0.7355\n",
            "Epoch 00038: val_accuracy did not improve from 0.98409\n",
            "105/105 [==============================] - 20s 192ms/step - loss: 0.6753 - accuracy: 0.7355 - val_loss: 15.8503 - val_accuracy: 0.0282\n",
            "Epoch 39/50\n",
            "105/105 [==============================] - ETA: 0s - loss: 5.0519 - accuracy: 0.7006\n",
            "Epoch 00039: val_accuracy did not improve from 0.98409\n",
            "105/105 [==============================] - 20s 194ms/step - loss: 5.0519 - accuracy: 0.7006 - val_loss: 8.1277 - val_accuracy: 0.3084\n",
            "Epoch 40/50\n",
            "105/105 [==============================] - ETA: 0s - loss: 3.2881 - accuracy: 0.6265\n",
            "Epoch 00040: val_accuracy did not improve from 0.98409\n",
            "105/105 [==============================] - 21s 196ms/step - loss: 3.2881 - accuracy: 0.6265 - val_loss: 10.5538 - val_accuracy: 0.2570\n",
            "Epoch 41/50\n",
            "105/105 [==============================] - ETA: 0s - loss: 1.3709 - accuracy: 0.7033\n",
            "Epoch 00041: val_accuracy did not improve from 0.98409\n",
            "105/105 [==============================] - 20s 192ms/step - loss: 1.3709 - accuracy: 0.7033 - val_loss: 5.5047 - val_accuracy: 0.1310\n",
            "Epoch 42/50\n",
            "105/105 [==============================] - ETA: 0s - loss: 0.7459 - accuracy: 0.7572\n",
            "Epoch 00042: val_accuracy did not improve from 0.98409\n",
            "105/105 [==============================] - 20s 194ms/step - loss: 0.7459 - accuracy: 0.7572 - val_loss: 4.1703 - val_accuracy: 0.2007\n",
            "Epoch 43/50\n",
            "105/105 [==============================] - ETA: 0s - loss: 0.3847 - accuracy: 0.8228\n",
            "Epoch 00043: val_accuracy did not improve from 0.98409\n",
            "105/105 [==============================] - 21s 196ms/step - loss: 0.3847 - accuracy: 0.8228 - val_loss: 2.7241 - val_accuracy: 0.3892\n",
            "Epoch 44/50\n",
            "105/105 [==============================] - ETA: 0s - loss: 0.3319 - accuracy: 0.8433\n",
            "Epoch 00044: val_accuracy did not improve from 0.98409\n",
            "105/105 [==============================] - 20s 194ms/step - loss: 0.3319 - accuracy: 0.8433 - val_loss: 2.9256 - val_accuracy: 0.4614\n",
            "Epoch 45/50\n",
            "105/105 [==============================] - ETA: 0s - loss: 0.2518 - accuracy: 0.8689\n",
            "Epoch 00045: val_accuracy did not improve from 0.98409\n",
            "105/105 [==============================] - 20s 193ms/step - loss: 0.2518 - accuracy: 0.8689 - val_loss: 1.9147 - val_accuracy: 0.5337\n",
            "Epoch 46/50\n",
            "105/105 [==============================] - ETA: 0s - loss: 0.2233 - accuracy: 0.8907\n",
            "Epoch 00046: val_accuracy did not improve from 0.98409\n",
            "105/105 [==============================] - 20s 193ms/step - loss: 0.2233 - accuracy: 0.8907 - val_loss: 0.9280 - val_accuracy: 0.7271\n",
            "Epoch 47/50\n",
            "105/105 [==============================] - ETA: 0s - loss: 0.1690 - accuracy: 0.9097\n",
            "Epoch 00047: val_accuracy did not improve from 0.98409\n",
            "105/105 [==============================] - 21s 195ms/step - loss: 0.1690 - accuracy: 0.9097 - val_loss: 0.6494 - val_accuracy: 0.7870\n",
            "Epoch 48/50\n",
            "105/105 [==============================] - ETA: 0s - loss: 0.1509 - accuracy: 0.9133\n",
            "Epoch 00048: val_accuracy did not improve from 0.98409\n",
            "105/105 [==============================] - 21s 196ms/step - loss: 0.1509 - accuracy: 0.9133 - val_loss: 0.3626 - val_accuracy: 0.8800\n",
            "Epoch 49/50\n",
            "105/105 [==============================] - ETA: 0s - loss: 0.2047 - accuracy: 0.9145\n",
            "Epoch 00049: val_accuracy did not improve from 0.98409\n",
            "105/105 [==============================] - 20s 193ms/step - loss: 0.2047 - accuracy: 0.9145 - val_loss: 0.5347 - val_accuracy: 0.7968\n",
            "Epoch 50/50\n",
            "105/105 [==============================] - ETA: 0s - loss: 0.1102 - accuracy: 0.9398\n",
            "Epoch 00050: val_accuracy did not improve from 0.98409\n",
            "105/105 [==============================] - 20s 194ms/step - loss: 0.1102 - accuracy: 0.9398 - val_loss: 0.2861 - val_accuracy: 0.8984\n"
          ],
          "name": "stdout"
        }
      ]
    },
    {
      "cell_type": "code",
      "metadata": {
        "id": "Wj3oxTexNlx6",
        "colab_type": "code",
        "colab": {
          "base_uri": "https://localhost:8080/",
          "height": 34
        },
        "outputId": "5cb49468-517b-4d8c-fe19-7fef7e650ab9"
      },
      "source": [
        "model.load_weights(filepathckpt)"
      ],
      "execution_count": 40,
      "outputs": [
        {
          "output_type": "execute_result",
          "data": {
            "text/plain": [
              "<tensorflow.python.training.tracking.util.CheckpointLoadStatus at 0x7fdeba480390>"
            ]
          },
          "metadata": {
            "tags": []
          },
          "execution_count": 40
        }
      ]
    },
    {
      "cell_type": "code",
      "metadata": {
        "id": "TmY0E5wZ9F8D",
        "colab_type": "code",
        "colab": {
          "base_uri": "https://localhost:8080/",
          "height": 34
        },
        "outputId": "37127ee9-dcc3-426f-ed27-838b2123828f"
      },
      "source": [
        "loss_acc=model.evaluate(val_data_gen, verbose=1,steps = total_val // batch_size+1)"
      ],
      "execution_count": 43,
      "outputs": [
        {
          "output_type": "stream",
          "text": [
            "27/27 [==============================] - 4s 136ms/step - loss: 0.0516 - accuracy: 0.9847\n"
          ],
          "name": "stdout"
        }
      ]
    },
    {
      "cell_type": "code",
      "metadata": {
        "id": "L8V8Un5j_Q2q",
        "colab_type": "code",
        "colab": {
          "base_uri": "https://localhost:8080/",
          "height": 34
        },
        "outputId": "18844d7e-dce4-4d8a-a4e5-b614151120a3"
      },
      "source": [
        "preds=model.predict(val_data_gen, verbose=1,steps = total_val // batch_size+1).argmax(axis=1)"
      ],
      "execution_count": 41,
      "outputs": [
        {
          "output_type": "stream",
          "text": [
            "27/27 [==============================] - 3s 129ms/step\n"
          ],
          "name": "stdout"
        }
      ]
    },
    {
      "cell_type": "code",
      "metadata": {
        "id": "7-qhYlt0TiLc",
        "colab_type": "code",
        "colab": {
          "base_uri": "https://localhost:8080/",
          "height": 34
        },
        "outputId": "1260c911-b57e-42e9-cffa-8f8c8f0d358b"
      },
      "source": [
        "preds.shape"
      ],
      "execution_count": 34,
      "outputs": [
        {
          "output_type": "execute_result",
          "data": {
            "text/plain": [
              "(849,)"
            ]
          },
          "metadata": {
            "tags": []
          },
          "execution_count": 34
        }
      ]
    },
    {
      "cell_type": "code",
      "metadata": {
        "id": "Jt5u2nryTiUe",
        "colab_type": "code",
        "colab": {
          "base_uri": "https://localhost:8080/",
          "height": 34
        },
        "outputId": "38ddb644-a166-4fe1-f533-bfeacadf0197"
      },
      "source": [
        "\n",
        "ans=val_data_gen.classes\n",
        "# preds_tr=model.predict(train_data_gen).argmax(axis=1)\n",
        "# ans_tr=train_data_gen.classes\n",
        "from sklearn.metrics import confusion_matrix, f1_score\n",
        "val_mat = confusion_matrix(ans, preds)\n",
        "# tr_mat=confusion_matrix(ans_tr, preds_tr)\n",
        "microf1=f1_score(ans, preds,average='micro')\n",
        "# microf1_tr=f1_score(ans_tr, preds_tr,average='micro')\n",
        "print(microf1)"
      ],
      "execution_count": 45,
      "outputs": [
        {
          "output_type": "stream",
          "text": [
            "0.3286219081272085\n"
          ],
          "name": "stdout"
        }
      ]
    },
    {
      "cell_type": "code",
      "metadata": {
        "id": "5IVI2DloASlg",
        "colab_type": "code",
        "colab": {
          "base_uri": "https://localhost:8080/",
          "height": 140
        },
        "outputId": "1c18f066-8b02-4e5a-86bc-a75c252c605d"
      },
      "source": [
        "val_mat"
      ],
      "execution_count": 46,
      "outputs": [
        {
          "output_type": "execute_result",
          "data": {
            "text/plain": [
              "array([[130, 126,   0,   0,   0,   0,   0],\n",
              "       [  2, 121,  76,  49,   0,   0,   0],\n",
              "       [  1,   3,   0,  26,  46,   0,   0],\n",
              "       [  0,   0,   0,   0,  82,   0,   0],\n",
              "       [ 97,   0,   0,   0,  28,   8,  23],\n",
              "       [  8,   0,   0,   0,   0,   0,   0],\n",
              "       [ 23,   0,   0,   0,   0,   0,   0]])"
            ]
          },
          "metadata": {
            "tags": []
          },
          "execution_count": 46
        }
      ]
    },
    {
      "cell_type": "code",
      "metadata": {
        "id": "oXpRXbpdEqpM",
        "colab_type": "code",
        "colab": {}
      },
      "source": [
        "\n"
      ],
      "execution_count": 0,
      "outputs": []
    },
    {
      "cell_type": "markdown",
      "metadata": {
        "id": "PYCVEbV-Ev8-",
        "colab_type": "text"
      },
      "source": [
        "# 新しいセクション"
      ]
    }
  ]
}